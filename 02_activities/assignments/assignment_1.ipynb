{
 "cells": [
  {
   "cell_type": "markdown",
   "metadata": {},
   "source": [
    "# Working with parquet files\n",
    "\n",
    "## Objective\n",
    "\n",
    "+ In this assignment, we will use the data downloaded with the module `data_manager` to create features.\n",
    "\n",
    "(11 pts total)\n",
    "\n",
    "## Prerequisites\n",
    "\n",
    "+ This notebook assumes that price data is available to you in the environment variable `PRICE_DATA`. If you have not done so, then execute the notebook `01_materials/labs/2_data_engineering.ipynb` to create this data set.\n"
   ]
  },
  {
   "cell_type": "markdown",
   "metadata": {},
   "source": [
    "+ Load the environment variables using dotenv. (1 pt)"
   ]
  },
  {
   "cell_type": "code",
   "execution_count": 1,
   "metadata": {},
   "outputs": [],
   "source": [
    "# Write your code below.\n",
    "%load_ext dotenv\n",
    "%dotenv ../../01_materials/labs/.env"
   ]
  },
  {
   "cell_type": "code",
   "execution_count": 2,
   "metadata": {},
   "outputs": [
    {
     "name": "stderr",
     "output_type": "stream",
     "text": [
      "/var/folders/h3/hl0mqnds7b1fzrh1jyt_rxth0000gn/T/ipykernel_11464/676544213.py:1: DeprecationWarning: The current Dask DataFrame implementation is deprecated. \n",
      "In a future release, Dask DataFrame will use new implementation that\n",
      "contains several improvements including a logical query planning.\n",
      "The user-facing DataFrame API will remain unchanged.\n",
      "\n",
      "The new implementation is already available and can be enabled by\n",
      "installing the dask-expr library:\n",
      "\n",
      "    $ pip install dask-expr\n",
      "\n",
      "and turning the query planning option on:\n",
      "\n",
      "    >>> import dask\n",
      "    >>> dask.config.set({'dataframe.query-planning': True})\n",
      "    >>> import dask.dataframe as dd\n",
      "\n",
      "API documentation for the new implementation is available at\n",
      "https://docs.dask.org/en/stable/dask-expr-api.html\n",
      "\n",
      "Any feedback can be reported on the Dask issue tracker\n",
      "https://github.com/dask/dask/issues \n",
      "\n",
      "  import dask.dataframe as dd\n"
     ]
    }
   ],
   "source": [
    "import dask.dataframe as dd"
   ]
  },
  {
   "cell_type": "markdown",
   "metadata": {},
   "source": [
    "+ Load the environment variable `PRICE_DATA`.\n",
    "+ Use [glob](https://docs.python.org/3/library/glob.html) to find the path of all parquet files in the directory `PRICE_DATA`.\n",
    "\n",
    "(1pt)"
   ]
  },
  {
   "cell_type": "code",
   "execution_count": 3,
   "metadata": {},
   "outputs": [],
   "source": [
    "import os\n",
    "from glob import glob\n",
    "\n",
    "# Write your code below.\n",
    "\n",
    "# Load the environment variable PRICE_DATA\n",
    "price_data_dir = os.getenv('PRICE_DATA')\n",
    "\n",
    "# Use glob to find all parquet files in the directory PRICE_DATA\n",
    "parquet_files = glob(os.path.join(price_data_dir, '*/*.parquet', 'part.*.parquet'))"
   ]
  },
  {
   "cell_type": "code",
   "execution_count": 4,
   "metadata": {},
   "outputs": [
    {
     "name": "stdout",
     "output_type": "stream",
     "text": [
      "Columns in the file: Index(['Date', 'Open', 'High', 'Low', 'Close', 'Adj Close', 'Volume', 'sector',\n",
      "       'subsector', 'year'],\n",
      "      dtype='object')\n",
      "First few rows of the data:\n",
      "              Date    Open    High     Low   Close  Adj Close   Volume  \\\n",
      "ticker                                                                  \n",
      "CTAS   2008-01-02  8.3725  8.4050  8.0650  8.0875   4.451986  5793600   \n",
      "CTAS   2008-01-03  8.1525  8.2875  8.1275  8.2425   4.537309  5339200   \n",
      "CTAS   2008-01-04  8.1625  8.1850  7.9025  7.9025   4.350146  5692400   \n",
      "CTAS   2008-01-07  7.9050  8.2175  7.9050  8.1175   4.468500  5946000   \n",
      "CTAS   2008-01-08  8.1350  8.1475  7.7750  7.7750   4.279962  6229600   \n",
      "\n",
      "             sector                     subsector  year  \n",
      "ticker                                                   \n",
      "CTAS    Industrials  Diversified Support Services  2008  \n",
      "CTAS    Industrials  Diversified Support Services  2008  \n",
      "CTAS    Industrials  Diversified Support Services  2008  \n",
      "CTAS    Industrials  Diversified Support Services  2008  \n",
      "CTAS    Industrials  Diversified Support Services  2008  \n"
     ]
    }
   ],
   "source": [
    "# Optional Observation using for Metadata\n",
    "\n",
    "import pandas as pd\n",
    "# Load the first parquet file in the list to inspect columns\n",
    "single_file = parquet_files[0]\n",
    "df_obs = pd.read_parquet(single_file)\n",
    "\n",
    "# Display column names and the first few rows of the file\n",
    "print(\"Columns in the file:\", df_obs.columns)\n",
    "print(\"First few rows of the data:\\n\", df_obs.head())"
   ]
  },
  {
   "cell_type": "markdown",
   "metadata": {},
   "source": [
    "For each ticker and using Dask, do the following:\n",
    "\n",
    "+ Add lags for variables Close and Adj_Close.\n",
    "+ Add returns based on Adjusted Close:\n",
    "    \n",
    "    - `returns`: (Adj Close / Adj Close_lag) - 1\n",
    "\n",
    "+ Add the following range: \n",
    "\n",
    "    - `hi_lo_range`: this is the day's High minus Low.\n",
    "\n",
    "+ Assign the result to `dd_feat`.\n",
    "\n",
    "(4 pt)"
   ]
  },
  {
   "cell_type": "code",
   "execution_count": 56,
   "metadata": {},
   "outputs": [
    {
     "name": "stdout",
     "output_type": "stream",
     "text": [
      "Columns after reset_index: Index(['ticker', 'Date', 'Open', 'High', 'Low', 'Close', 'Adj Close', 'Volume',\n",
      "       'sector', 'subsector', 'year'],\n",
      "      dtype='object')\n",
      "ddf._meta:  Empty DataFrame\n",
      "Columns: [ticker, Date, Open, High, Low, Close, Adj Close, Volume, sector, subsector, year, Close_lag, Adj_Close_lag, returns, hi_lo_range]\n",
      "Index: []\n"
     ]
    }
   ],
   "source": [
    "\n",
    "# Read all parquet files into a Dask DataFrame, including the file path for 'ticker' in path\n",
    "ddf = dd.read_parquet(parquet_files)\n",
    "\n",
    "# Reset the index to make 'ticker' a column\n",
    "ddf = ddf.reset_index()\n",
    "\n",
    "# Verify the structure\n",
    "print(\"Columns after reset_index:\", ddf.columns)\n",
    "\n",
    "# Define metadata for the DataFrame explicitly\n",
    "initial_meta = {\n",
    "    'ticker': 'object',\n",
    "    'Date': 'datetime64[ns]',\n",
    "    'Open': 'float64',\n",
    "    'High': 'float64',\n",
    "    'Low': 'float64',\n",
    "    'Close': 'float64',\n",
    "    'Adj Close': 'float64',\n",
    "    'Volume': 'int64',\n",
    "    'sector': 'object',\n",
    "    'subsector': 'object',\n",
    "    'year': 'int64'\n",
    "}\n",
    "\n",
    "# Sort data by 'ticker' and 'Date' within each partition\n",
    "ddf = ddf.map_partitions(lambda df: df.sort_values(['ticker', 'Date']), meta=initial_meta)\n",
    "\n",
    "# Create lagged variables for Close and Adj Close with explicit meta for .shift()\n",
    "ddf['Close_lag'] = ddf.groupby('ticker')['Close'].shift(1, meta=('Close_lag', 'float64'))\n",
    "ddf['Adj_Close_lag'] = ddf.groupby('ticker')['Adj Close'].shift(1, meta=('Adj_Close_lag', 'float64'))\n",
    "\n",
    "# Calculate returns based on Adj Close\n",
    "ddf['returns'] = (ddf['Adj Close'] / ddf['Adj_Close_lag']) - 1\n",
    "\n",
    "# Calculate daily range: High - Low\n",
    "ddf['hi_lo_range'] = ddf['High'] - ddf['Low']\n",
    "\n",
    "# Update meta to include new calculated columns\n",
    "updated_meta = {\n",
    "    'ticker': 'object',\n",
    "    'Date': 'datetime64[ns]',\n",
    "    'Open': 'float64',\n",
    "    'High': 'float64',\n",
    "    'Low': 'float64',\n",
    "    'Close': 'float64',\n",
    "    'Adj Close': 'float64',\n",
    "    'Volume': 'int64',\n",
    "    'sector': 'object',\n",
    "    'subsector': 'object',\n",
    "    'year': 'int64',\n",
    "    'Close_lag': 'float64',\n",
    "    'Adj_Close_lag': 'float64',\n",
    "    'returns': 'float64',\n",
    "    'hi_lo_range': 'float64'\n",
    "}\n",
    "\n",
    "# Re-assign the meta to dd_feat\n",
    "dd_feat = ddf.map_partitions(lambda df: df, meta=updated_meta)\n",
    "\n",
    "actual_meta = ddf._meta\n",
    "print(\"ddf._meta: \", actual_meta)"
   ]
  },
  {
   "cell_type": "markdown",
   "metadata": {},
   "source": [
    "+ Convert the Dask data frame to a pandas data frame. \n",
    "+ Add a rolling average return calculation with a window of 10 days.\n",
    "+ *Tip*: Consider using `.rolling(10).mean()`.\n",
    "\n",
    "(3 pt)"
   ]
  },
  {
   "cell_type": "code",
   "execution_count": null,
   "metadata": {},
   "outputs": [],
   "source": [
    "# Write your code below.\n",
    "\n",
    "dd_feat = dd_feat.reset_index(drop=True)\n",
    "\n",
    "# Compute to convert Dask DataFrame to pandas DataFrame\n",
    "df = dd_feat.compute()\n",
    "\n",
    "# Add a 10-day rolling average for returns\n",
    "df['rolling_avg_return'] = df.groupby('ticker')['returns'].rolling(10).mean().reset_index(level=0, drop=True)"
   ]
  },
  {
   "cell_type": "markdown",
   "metadata": {},
   "source": [
    "Please comment:\n",
    "\n",
    "### Was it necessary to convert to pandas to calculate the moving average return?\n",
    "+ Yes, because Dask’s support for `rolling` operations with `groupby` is limited and can lead to complex implementations, particularly if the data fits into memory. Converting to pandas simplifies the moving average calculation, making it straightforward without needing to manage Dask's partitioning and indexing constraints.\n",
    "\n",
    "### Would it have been better to do it in Dask? Why?\n",
    "+ For larger-than-memory data, using Dask would be essential. However, for datasets that comfortably fit into memory, pandas is preferable because it avoids Dask’s overhead and partition management requirements.\n",
    "\n",
    "(1 pt)"
   ]
  },
  {
   "cell_type": "markdown",
   "metadata": {},
   "source": [
    "## Criteria\n",
    "\n",
    "The [rubric](./assignment_1_rubric_clean.xlsx) contains the criteria for grading."
   ]
  },
  {
   "cell_type": "markdown",
   "metadata": {},
   "source": [
    "## Submission Information\n",
    "\n",
    "🚨 **Please review our [Assignment Submission Guide](https://github.com/UofT-DSI/onboarding/blob/main/onboarding_documents/submissions.md)** 🚨 for detailed instructions on how to format, branch, and submit your work. Following these guidelines is crucial for your submissions to be evaluated correctly.\n",
    "\n",
    "### Submission Parameters:\n",
    "* Submission Due Date: `HH:MM AM/PM - DD/MM/YYYY`\n",
    "* The branch name for your repo should be: `assignment-1`\n",
    "* What to submit for this assignment:\n",
    "    * This Jupyter Notebook (assignment_1.ipynb) should be populated and should be the only change in your pull request.\n",
    "* What the pull request link should look like for this assignment: `https://github.com/<your_github_username>/production/pull/<pr_id>`\n",
    "    * Open a private window in your browser. Copy and paste the link to your pull request into the address bar. Make sure you can see your pull request properly. This helps the technical facilitator and learning support staff review your submission easily.\n",
    "\n",
    "Checklist:\n",
    "- [ ] Created a branch with the correct naming convention.\n",
    "- [ ] Ensured that the repository is public.\n",
    "- [ ] Reviewed the PR description guidelines and adhered to them.\n",
    "- [ ] Verify that the link is accessible in a private browser window.\n",
    "\n",
    "If you encounter any difficulties or have questions, please don't hesitate to reach out to our team via our Slack at `#cohort-3-help`. Our Technical Facilitators and Learning Support staff are here to help you navigate any challenges."
   ]
  }
 ],
 "metadata": {
  "kernelspec": {
   "display_name": "dsi_participant",
   "language": "python",
   "name": "python3"
  },
  "language_info": {
   "codemirror_mode": {
    "name": "ipython",
    "version": 3
   },
   "file_extension": ".py",
   "mimetype": "text/x-python",
   "name": "python",
   "nbconvert_exporter": "python",
   "pygments_lexer": "ipython3",
   "version": "3.9.19"
  }
 },
 "nbformat": 4,
 "nbformat_minor": 2
}
