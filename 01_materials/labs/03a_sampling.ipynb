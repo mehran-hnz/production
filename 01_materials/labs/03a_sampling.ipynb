{
 "cells": [
  {
   "cell_type": "code",
   "execution_count": 4,
   "metadata": {},
   "outputs": [
    {
     "name": "stdout",
     "output_type": "stream",
     "text": [
      "The dotenv extension is already loaded. To reload it, use:\n",
      "  %reload_ext dotenv\n"
     ]
    }
   ],
   "source": [
    "%load_ext dotenv\n",
    "%dotenv \n",
    "import os\n",
    "import sys\n",
    "sys.path.append(os.getenv('SRC_DIR'))\n",
    "from logger import get_logger\n",
    "_logs = get_logger(__name__)"
   ]
  },
  {
   "cell_type": "code",
   "execution_count": 5,
   "metadata": {},
   "outputs": [],
   "source": [
    "import dask.dataframe as dd\n",
    "import pandas as pd\n",
    "import numpy as np\n",
    "import os\n",
    "from glob import glob"
   ]
  },
  {
   "cell_type": "code",
   "execution_count": 15,
   "metadata": {},
   "outputs": [],
   "source": [
    "ft_dir = os.getenv(\"FEATURES_DATA\")\n",
    "ft_glob = glob(ft_dir+'/*.parquet')\n",
    "df = dd.read_parquet(ft_glob).compute().reset_index()"
   ]
  },
  {
   "cell_type": "code",
   "execution_count": 16,
   "metadata": {},
   "outputs": [
    {
     "name": "stdout",
     "output_type": "stream",
     "text": [
      "<class 'pandas.core.frame.DataFrame'>\n",
      "RangeIndex: 2777701 entries, 0 to 2777700\n",
      "Data columns (total 15 columns):\n",
      " #   Column           Dtype         \n",
      "---  ------           -----         \n",
      " 0   ticker           string        \n",
      " 1   Date             datetime64[ns]\n",
      " 2   Open             float64       \n",
      " 3   High             float64       \n",
      " 4   Low              float64       \n",
      " 5   Close            float64       \n",
      " 6   Adj Close        float64       \n",
      " 7   Volume           int64         \n",
      " 8   sector           string        \n",
      " 9   subsector        string        \n",
      " 10  year             int32         \n",
      " 11  Close_lag_1      float64       \n",
      " 12  returns          float64       \n",
      " 13  positive_return  int64         \n",
      " 14  target           float64       \n",
      "dtypes: datetime64[ns](1), float64(8), int32(1), int64(2), string(3)\n",
      "memory usage: 315.6 MB\n"
     ]
    }
   ],
   "source": [
    "df.info()"
   ]
  },
  {
   "cell_type": "markdown",
   "metadata": {},
   "source": [
    "# Sampling in Python"
   ]
  },
  {
   "cell_type": "markdown",
   "metadata": {},
   "source": [
    "+ There are different packages that allow sampling.\n",
    "+ A practical approach is to use pandas/Dask sampling methods."
   ]
  },
  {
   "cell_type": "markdown",
   "metadata": {},
   "source": [
    "## Random Sampling\n",
    "\n",
    "+ Sample n rows from a dataframe with [`df.sample()`](https://pandas.pydata.org/docs/reference/api/pandas.DataFrame.sample.html).\n",
    "\n",
    "```\n",
    "DataFrame.sample(\n",
    "    n=None, frac=None, replace=False, weights=None, \n",
    "    random_state=None, axis=None, ignore_index=False\n",
    "    )\n",
    "```"
   ]
  },
  {
   "cell_type": "code",
   "execution_count": 7,
   "metadata": {},
   "outputs": [
    {
     "data": {
      "text/html": [
       "<div>\n",
       "<style scoped>\n",
       "    .dataframe tbody tr th:only-of-type {\n",
       "        vertical-align: middle;\n",
       "    }\n",
       "\n",
       "    .dataframe tbody tr th {\n",
       "        vertical-align: top;\n",
       "    }\n",
       "\n",
       "    .dataframe thead th {\n",
       "        text-align: right;\n",
       "    }\n",
       "</style>\n",
       "<table border=\"1\" class=\"dataframe\">\n",
       "  <thead>\n",
       "    <tr style=\"text-align: right;\">\n",
       "      <th></th>\n",
       "      <th>ticker</th>\n",
       "      <th>Date</th>\n",
       "      <th>Open</th>\n",
       "      <th>High</th>\n",
       "      <th>Low</th>\n",
       "      <th>Close</th>\n",
       "      <th>Adj Close</th>\n",
       "      <th>Volume</th>\n",
       "      <th>sector</th>\n",
       "      <th>subsector</th>\n",
       "      <th>year</th>\n",
       "      <th>Close_lag_1</th>\n",
       "      <th>returns</th>\n",
       "      <th>positive_return</th>\n",
       "      <th>target</th>\n",
       "    </tr>\n",
       "  </thead>\n",
       "  <tbody>\n",
       "    <tr>\n",
       "      <th>1043459</th>\n",
       "      <td>EXC</td>\n",
       "      <td>2002-03-26</td>\n",
       "      <td>18.937233</td>\n",
       "      <td>18.969330</td>\n",
       "      <td>18.455776</td>\n",
       "      <td>18.580599</td>\n",
       "      <td>8.049511</td>\n",
       "      <td>2620899</td>\n",
       "      <td>Utilities</td>\n",
       "      <td>Electric Utilities</td>\n",
       "      <td>2002</td>\n",
       "      <td>18.937233</td>\n",
       "      <td>-0.018832</td>\n",
       "      <td>0</td>\n",
       "      <td>1.0</td>\n",
       "    </tr>\n",
       "    <tr>\n",
       "      <th>1250052</th>\n",
       "      <td>TPR</td>\n",
       "      <td>2006-07-06</td>\n",
       "      <td>28.770000</td>\n",
       "      <td>29.320000</td>\n",
       "      <td>28.500000</td>\n",
       "      <td>29.260000</td>\n",
       "      <td>19.345259</td>\n",
       "      <td>2818900</td>\n",
       "      <td>Consumer Discretionary</td>\n",
       "      <td>Apparel, Accessories &amp; Luxury Goods</td>\n",
       "      <td>2006</td>\n",
       "      <td>28.790001</td>\n",
       "      <td>0.016325</td>\n",
       "      <td>1</td>\n",
       "      <td>0.0</td>\n",
       "    </tr>\n",
       "    <tr>\n",
       "      <th>2259567</th>\n",
       "      <td>CPRT</td>\n",
       "      <td>2019-11-06</td>\n",
       "      <td>20.620001</td>\n",
       "      <td>20.620001</td>\n",
       "      <td>20.177500</td>\n",
       "      <td>20.465000</td>\n",
       "      <td>20.465000</td>\n",
       "      <td>4983200</td>\n",
       "      <td>Industrials</td>\n",
       "      <td>Diversified Support Services</td>\n",
       "      <td>2019</td>\n",
       "      <td>20.562500</td>\n",
       "      <td>-0.004742</td>\n",
       "      <td>0</td>\n",
       "      <td>0.0</td>\n",
       "    </tr>\n",
       "    <tr>\n",
       "      <th>1246509</th>\n",
       "      <td>EXPE</td>\n",
       "      <td>2016-06-17</td>\n",
       "      <td>104.080002</td>\n",
       "      <td>104.720001</td>\n",
       "      <td>103.070000</td>\n",
       "      <td>104.139999</td>\n",
       "      <td>100.174484</td>\n",
       "      <td>2697800</td>\n",
       "      <td>Consumer Discretionary</td>\n",
       "      <td>Hotels, Resorts &amp; Cruise Lines</td>\n",
       "      <td>2016</td>\n",
       "      <td>104.349998</td>\n",
       "      <td>-0.002012</td>\n",
       "      <td>0</td>\n",
       "      <td>1.0</td>\n",
       "    </tr>\n",
       "    <tr>\n",
       "      <th>721062</th>\n",
       "      <td>GPC</td>\n",
       "      <td>2023-11-01</td>\n",
       "      <td>128.830002</td>\n",
       "      <td>129.199997</td>\n",
       "      <td>127.650002</td>\n",
       "      <td>128.779999</td>\n",
       "      <td>125.226578</td>\n",
       "      <td>1051200</td>\n",
       "      <td>Consumer Discretionary</td>\n",
       "      <td>Distributors</td>\n",
       "      <td>2023</td>\n",
       "      <td>128.860001</td>\n",
       "      <td>-0.000621</td>\n",
       "      <td>0</td>\n",
       "      <td>1.0</td>\n",
       "    </tr>\n",
       "  </tbody>\n",
       "</table>\n",
       "</div>"
      ],
      "text/plain": [
       "        ticker       Date        Open        High         Low       Close  \\\n",
       "1043459    EXC 2002-03-26   18.937233   18.969330   18.455776   18.580599   \n",
       "1250052    TPR 2006-07-06   28.770000   29.320000   28.500000   29.260000   \n",
       "2259567   CPRT 2019-11-06   20.620001   20.620001   20.177500   20.465000   \n",
       "1246509   EXPE 2016-06-17  104.080002  104.720001  103.070000  104.139999   \n",
       "721062     GPC 2023-11-01  128.830002  129.199997  127.650002  128.779999   \n",
       "\n",
       "          Adj Close   Volume                  sector  \\\n",
       "1043459    8.049511  2620899               Utilities   \n",
       "1250052   19.345259  2818900  Consumer Discretionary   \n",
       "2259567   20.465000  4983200             Industrials   \n",
       "1246509  100.174484  2697800  Consumer Discretionary   \n",
       "721062   125.226578  1051200  Consumer Discretionary   \n",
       "\n",
       "                                   subsector  year  Close_lag_1   returns  \\\n",
       "1043459                   Electric Utilities  2002    18.937233 -0.018832   \n",
       "1250052  Apparel, Accessories & Luxury Goods  2006    28.790001  0.016325   \n",
       "2259567         Diversified Support Services  2019    20.562500 -0.004742   \n",
       "1246509       Hotels, Resorts & Cruise Lines  2016   104.349998 -0.002012   \n",
       "721062                          Distributors  2023   128.860001 -0.000621   \n",
       "\n",
       "         positive_return  target  \n",
       "1043459                0     1.0  \n",
       "1250052                1     0.0  \n",
       "2259567                0     0.0  \n",
       "1246509                0     1.0  \n",
       "721062                 0     1.0  "
      ]
     },
     "execution_count": 7,
     "metadata": {},
     "output_type": "execute_result"
    }
   ],
   "source": [
    "df.sample(n = 5)"
   ]
  },
  {
   "cell_type": "code",
   "execution_count": 8,
   "metadata": {},
   "outputs": [
    {
     "data": {
      "text/plain": [
       "['OXY', 'TXN', 'PCG', 'CBRE', 'ROK', 'AMT', 'D', 'YUM', 'PWR']"
      ]
     },
     "execution_count": 8,
     "metadata": {},
     "output_type": "execute_result"
    }
   ],
   "source": [
    "# select_tickers = df['ticker'].unique().tolist()[0:9]\n",
    "select_tickers = ['OXY', 'TXN', 'PCG', 'CBRE', 'ROK', 'AMT', 'D', 'YUM', 'PWR']\n",
    "select_tickers"
   ]
  },
  {
   "cell_type": "code",
   "execution_count": 9,
   "metadata": {},
   "outputs": [
    {
     "data": {
      "text/plain": [
       "((5506, 15), (55055, 15))"
      ]
     },
     "execution_count": 9,
     "metadata": {},
     "output_type": "execute_result"
    }
   ],
   "source": [
    "idx = df['ticker'].isin(select_tickers)\n",
    "small_df = df[idx]\n",
    "simple_sample_dt = small_df.sample(frac = 0.1)\n",
    "simple_sample_dt.shape, small_df.shape"
   ]
  },
  {
   "cell_type": "markdown",
   "metadata": {},
   "source": [
    "Look at the distribution of tickers."
   ]
  },
  {
   "cell_type": "code",
   "execution_count": 10,
   "metadata": {},
   "outputs": [
    {
     "data": {
      "text/plain": [
       "<Axes: xlabel='ticker'>"
      ]
     },
     "execution_count": 10,
     "metadata": {},
     "output_type": "execute_result"
    },
    {
     "data": {
      "image/png": "[encoded data removed]",
      "text/plain": [
       "<Figure size 640x480 with 1 Axes>"
      ]
     },
     "metadata": {},
     "output_type": "display_data"
    }
   ],
   "source": [
    "small_df['ticker'].value_counts().plot(kind='bar')"
   ]
  },
  {
   "cell_type": "code",
   "execution_count": 11,
   "metadata": {},
   "outputs": [
    {
     "data": {
      "text/plain": [
       "<Axes: xlabel='ticker'>"
      ]
     },
     "execution_count": 11,
     "metadata": {},
     "output_type": "execute_result"
    },
    {
     "data": {
      "image/png": "[encoded data removed]",
      "text/plain": [
       "<Figure size 640x480 with 1 Axes>"
      ]
     },
     "metadata": {},
     "output_type": "display_data"
    }
   ],
   "source": [
    "simple_sample_dt['ticker'].value_counts().plot(kind='bar')"
   ]
  },
  {
   "cell_type": "markdown",
   "metadata": {},
   "source": [
    "## Stratified Sampling\n",
    "\n",
    "+ Use `groupby()` and `.sample()` for stratified sampling."
   ]
  },
  {
   "cell_type": "code",
   "execution_count": 12,
   "metadata": {},
   "outputs": [
    {
     "data": {
      "text/plain": [
       "<Axes: xlabel='ticker'>"
      ]
     },
     "execution_count": 12,
     "metadata": {},
     "output_type": "execute_result"
    },
    {
     "data": {
      "image/png": "[encoded data removed]",
      "text/plain": [
       "<Figure size 640x480 with 1 Axes>"
      ]
     },
     "metadata": {},
     "output_type": "display_data"
    }
   ],
   "source": [
    "strat_sample_dt = small_df.groupby(['ticker']).sample(frac = 0.1)\n",
    "strat_sample_dt['ticker'].value_counts().plot(kind='bar')"
   ]
  },
  {
   "cell_type": "markdown",
   "metadata": {},
   "source": [
    "# Sampling in Dask\n",
    "\n",
    "+ Stratified sampling in `dask` can be achieved with `groupby().apply()` and a lambda function."
   ]
  },
  {
   "cell_type": "code",
   "execution_count": 13,
   "metadata": {},
   "outputs": [
    {
     "name": "stderr",
     "output_type": "stream",
     "text": [
      "/var/folders/h3/hl0mqnds7b1fzrh1jyt_rxth0000gn/T/ipykernel_16341/2932236319.py:2: UserWarning: `meta` is not specified, inferred from partial data. Please provide `meta` if the result is unexpected.\n",
      "  Before: .apply(func)\n",
      "  After:  .apply(func, meta={'x': 'f8', 'y': 'f8'}) for dataframe result\n",
      "  or:     .apply(func, meta=('x', 'f8'))            for series result\n",
      "  strat_sample_dd_dt = (dd_dt\n"
     ]
    },
    {
     "data": {
      "text/plain": [
       "<Axes: xlabel='ticker'>"
      ]
     },
     "execution_count": 13,
     "metadata": {},
     "output_type": "execute_result"
    },
    {
     "data": {
      "image/png": "[encoded data removed]",
      "text/plain": [
       "<Figure size 640x480 with 1 Axes>"
      ]
     },
     "metadata": {},
     "output_type": "display_data"
    }
   ],
   "source": [
    "dd_dt = dd.read_parquet(ft_glob)\n",
    "strat_sample_dd_dt = (dd_dt\n",
    "                      .groupby('ticker', group_keys=False)\n",
    "                      .apply(lambda x: x.sample(frac = 0.1))\n",
    "                      .compute()\n",
    "                      .reset_index())\n",
    "strat_sample_dd_dt[strat_sample_dd_dt['ticker'].isin(select_tickers)]['ticker'].value_counts().plot(kind='bar')"
   ]
  }
 ],
 "metadata": {
  "kernelspec": {
   "display_name": "dsi_participant",
   "language": "python",
   "name": "python3"
  },
  "language_info": {
   "codemirror_mode": {
    "name": "ipython",
    "version": 3
   },
   "file_extension": ".py",
   "mimetype": "text/x-python",
   "name": "python",
   "nbconvert_exporter": "python",
   "pygments_lexer": "ipython3",
   "version": "3.9.19"
  }
 },
 "nbformat": 4,
 "nbformat_minor": 2
}
